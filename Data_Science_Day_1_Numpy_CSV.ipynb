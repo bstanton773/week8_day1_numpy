{
 "cells": [
  {
   "cell_type": "markdown",
   "metadata": {},
   "source": [
    "# Data Science Numpy & CSV's"
   ]
  },
  {
   "cell_type": "markdown",
   "metadata": {},
   "source": [
    "## Tasks Today:\n",
    "\n",
    "1) <b>Numpy</b> <br>\n",
    " &nbsp;&nbsp;&nbsp;&nbsp; a) Python List Comparison <br>\n",
    " &nbsp;&nbsp;&nbsp;&nbsp; b) In-Class Exercise #1 <br>\n",
    " &nbsp;&nbsp;&nbsp;&nbsp; c) Importing <br>\n",
    " &nbsp;&nbsp;&nbsp;&nbsp; d) Creating an NDArray <br>\n",
    " &nbsp;&nbsp;&nbsp;&nbsp;&nbsp;&nbsp;&nbsp;&nbsp; - np.array() <br>\n",
    " &nbsp;&nbsp;&nbsp;&nbsp;&nbsp;&nbsp;&nbsp;&nbsp; - np.zeros() <br>\n",
    " &nbsp;&nbsp;&nbsp;&nbsp;&nbsp;&nbsp;&nbsp;&nbsp; - np.ones() <br>\n",
    " &nbsp;&nbsp;&nbsp;&nbsp;&nbsp;&nbsp;&nbsp;&nbsp; - np.arange() <br>\n",
    " &nbsp;&nbsp;&nbsp;&nbsp;&nbsp;&nbsp;&nbsp;&nbsp; - Making Lists into NDArrays <br>\n",
    " &nbsp;&nbsp;&nbsp;&nbsp; e) Performing Calculations on NDArrays <br>\n",
    " &nbsp;&nbsp;&nbsp;&nbsp;&nbsp;&nbsp;&nbsp;&nbsp; - Summation <br>\n",
    " &nbsp;&nbsp;&nbsp;&nbsp;&nbsp;&nbsp;&nbsp;&nbsp; - Difference <br>\n",
    " &nbsp;&nbsp;&nbsp;&nbsp;&nbsp;&nbsp;&nbsp;&nbsp; - Multiplication <br>\n",
    " &nbsp;&nbsp;&nbsp;&nbsp;&nbsp;&nbsp;&nbsp;&nbsp; - Division <br>\n",
    " &nbsp;&nbsp;&nbsp;&nbsp; f) Numpy Subsetting <br>\n",
    " &nbsp;&nbsp;&nbsp;&nbsp; g) Multi-dimensional Arrays <br>\n",
    " &nbsp;&nbsp;&nbsp;&nbsp; h) Indexing NDArrays <br>\n",
    " &nbsp;&nbsp;&nbsp;&nbsp; i) Checking NDArray Type <br>\n",
    " &nbsp;&nbsp;&nbsp;&nbsp; j) Altering NDArray Type <br>\n",
    " &nbsp;&nbsp;&nbsp;&nbsp; k) Checking the Shape <br>\n",
    " &nbsp;&nbsp;&nbsp;&nbsp; l) Altering the Shape <br>\n",
    " &nbsp;&nbsp;&nbsp;&nbsp; m) In-Class Exercise #2 <br>\n",
    " &nbsp;&nbsp;&nbsp;&nbsp; n) Complex Indexing & Assigning <br>\n",
    " &nbsp;&nbsp;&nbsp;&nbsp; o) Elementwise Multplication <br>\n",
    " &nbsp;&nbsp;&nbsp;&nbsp; p) np.where() <br>\n",
    " &nbsp;&nbsp;&nbsp;&nbsp; q) Random Sampling <br>\n",
    "\n",
    "2) <b>Working With CSV's</b> <br>\n",
    " &nbsp;&nbsp;&nbsp;&nbsp; a) Imports <br>\n",
    " &nbsp;&nbsp;&nbsp;&nbsp; b) Reading a CSV <br>\n",
    " &nbsp;&nbsp;&nbsp;&nbsp; c) Loading a CSV's Data <br>\n",
    " &nbsp;&nbsp;&nbsp;&nbsp; d) Checking Number of Records <br>\n",
    " \n",
    "3) <b>Exercises</b> <br>\n",
    " &nbsp;&nbsp;&nbsp;&nbsp; a) #1 - Calculate BMI with NDArrays <br>\n",
    " &nbsp;&nbsp;&nbsp;&nbsp; b) #2 - Find the Average Sum of Marathon Runners <br>\n",
    " &nbsp;&nbsp;&nbsp;&nbsp; c) #3 - Random Matrix Function <br>\n",
    " &nbsp;&nbsp;&nbsp;&nbsp; d) #4 - Comparing Boston Red Sox Hitting Numbers <br>"
   ]
  },
  {
   "cell_type": "markdown",
   "metadata": {},
   "source": [
    "## Numpy <br>\n",
    "\n",
    "<p>NumPy is a library for the Python programming language, adding support for large, multi-dimensional arrays and matrices, along with a large collection of high-level mathematical functions to operate on these arrays.</p>\n",
    "<ul>\n",
    "    <li>Shape = Rows & Columns</li>\n",
    "    <li>Matrix = Entire Array</li>\n",
    "    <li>Vector = Variables to be applied (same vector as the one used in physics)</li>\n",
    "    <li>Array = Similar to lists</li>\n",
    "</ul>"
   ]
  },
  {
   "cell_type": "markdown",
   "metadata": {},
   "source": [
    "#### Python List Comparison"
   ]
  },
  {
   "cell_type": "markdown",
   "metadata": {},
   "source": [
    "<p>Lists are flexible, dynamic python objects that do their job quite well. But they do not support some mathematical operations in an intuitive way. Consider the summation of two lists, $l_1$ and $l_2$</p>"
   ]
  },
  {
   "cell_type": "code",
   "execution_count": 130,
   "metadata": {},
   "outputs": [
    {
     "name": "stdout",
     "output_type": "stream",
     "text": [
      "Summing of two lists: [1, 2, 3, 4, 5, 6]\n"
     ]
    },
    {
     "ename": "TypeError",
     "evalue": "unsupported operand type(s) for -: 'list' and 'list'",
     "output_type": "error",
     "traceback": [
      "\u001b[1;31m---------------------------------------------------------------------------\u001b[0m",
      "\u001b[1;31mTypeError\u001b[0m                                 Traceback (most recent call last)",
      "\u001b[1;32m<ipython-input-130-cc244dbcecb6>\u001b[0m in \u001b[0;36m<module>\u001b[1;34m\u001b[0m\n\u001b[0;32m      4\u001b[0m \u001b[1;33m\u001b[0m\u001b[0m\n\u001b[0;32m      5\u001b[0m \u001b[0mprint\u001b[0m\u001b[1;33m(\u001b[0m\u001b[1;34mf\"Summing of two lists: {l_1 + l_2}\"\u001b[0m\u001b[1;33m)\u001b[0m\u001b[1;33m\u001b[0m\u001b[1;33m\u001b[0m\u001b[0m\n\u001b[1;32m----> 6\u001b[1;33m \u001b[0mprint\u001b[0m\u001b[1;33m(\u001b[0m\u001b[1;34mf\"Difference of two lists: {l_1 - l_2}\"\u001b[0m\u001b[1;33m)\u001b[0m\u001b[1;33m\u001b[0m\u001b[1;33m\u001b[0m\u001b[0m\n\u001b[0m\u001b[0;32m      7\u001b[0m \u001b[0mprint\u001b[0m\u001b[1;33m(\u001b[0m\u001b[1;34m\"HELLO\"\u001b[0m\u001b[1;33m)\u001b[0m\u001b[1;33m\u001b[0m\u001b[1;33m\u001b[0m\u001b[0m\n",
      "\u001b[1;31mTypeError\u001b[0m: unsupported operand type(s) for -: 'list' and 'list'"
     ]
    }
   ],
   "source": [
    "# create two lists and sum both of them together (results may not be what you expect)\n",
    "l_1 = [1, 2, 3]\n",
    "l_2 = [4, 5, 6]\n",
    "\n",
    "print(f\"Summing of two lists: {l_1 + l_2}\")\n",
    "print(f\"Difference of two lists: {l_1 - l_2}\")"
   ]
  },
  {
   "cell_type": "markdown",
   "metadata": {},
   "source": [
    "<p>If we wanted to sum lists elementwise, we could write our own function that does the job entirely within the framework of python</p>"
   ]
  },
  {
   "cell_type": "markdown",
   "metadata": {},
   "source": [
    "#### In-Class Exercise #1 - Write a function that sums the indexes of two lists <br>\n",
    "<p>Ex: [2, 3, 4] + [1, 5, 2] = [3, 8, 6]</p>"
   ]
  },
  {
   "cell_type": "code",
   "execution_count": 4,
   "metadata": {},
   "outputs": [
    {
     "data": {
      "text/plain": [
       "[3, 8, 6]"
      ]
     },
     "execution_count": 4,
     "metadata": {},
     "output_type": "execute_result"
    }
   ],
   "source": [
    "def add_lists(list1, list2):\n",
    "    list3 = []\n",
    "    for index in range(len(list1)):\n",
    "        list3.append(list1[index] + list2[index])\n",
    "    return list3\n",
    "\n",
    "\n",
    "add_lists([2, 3, 4], [1, 5, 2])\n",
    "# [3, 8, 6]"
   ]
  },
  {
   "cell_type": "markdown",
   "metadata": {},
   "source": [
    "#### Importing"
   ]
  },
  {
   "cell_type": "code",
   "execution_count": 5,
   "metadata": {},
   "outputs": [],
   "source": [
    "# always import as np, standard across all of data science\n",
    "# !pip install numpy\n",
    "import numpy as np"
   ]
  },
  {
   "cell_type": "code",
   "execution_count": 6,
   "metadata": {},
   "outputs": [
    {
     "data": {
      "text/plain": [
       "<module 'numpy' from 'C:\\\\Users\\\\bstan\\\\anaconda3\\\\envs\\\\intro\\\\lib\\\\site-packages\\\\numpy\\\\__init__.py'>"
      ]
     },
     "execution_count": 6,
     "metadata": {},
     "output_type": "execute_result"
    }
   ],
   "source": [
    "np"
   ]
  },
  {
   "cell_type": "markdown",
   "metadata": {},
   "source": [
    "#### Creating an NDArray <br>\n",
    "<p>NumPy is based around a class called the $\\textit{NDArray}$, which is a flexible vector / matrix class that implements the intuitive matrix and vector arithmatic lacking in basic Python. Let's start by creating some NDArrays:</p>"
   ]
  },
  {
   "cell_type": "markdown",
   "metadata": {},
   "source": [
    "###### - np.array()"
   ]
  },
  {
   "cell_type": "code",
   "execution_count": 7,
   "metadata": {},
   "outputs": [
    {
     "name": "stdout",
     "output_type": "stream",
     "text": [
      "[1. 2. 3.]\n",
      "<class 'numpy.ndarray'>\n"
     ]
    }
   ],
   "source": [
    "arr1 = np.array([1., 2., 3.])\n",
    "\n",
    "print(arr1)\n",
    "print(type(arr1))"
   ]
  },
  {
   "cell_type": "code",
   "execution_count": 8,
   "metadata": {},
   "outputs": [
    {
     "data": {
      "text/plain": [
       "dtype('float64')"
      ]
     },
     "execution_count": 8,
     "metadata": {},
     "output_type": "execute_result"
    }
   ],
   "source": [
    "arr1.dtype"
   ]
  },
  {
   "cell_type": "markdown",
   "metadata": {},
   "source": [
    "###### - np.zeros()"
   ]
  },
  {
   "cell_type": "code",
   "execution_count": 9,
   "metadata": {},
   "outputs": [
    {
     "name": "stdout",
     "output_type": "stream",
     "text": [
      "[[0. 0. 0. 0. 0. 0. 0. 0. 0. 0.]\n",
      " [0. 0. 0. 0. 0. 0. 0. 0. 0. 0.]\n",
      " [0. 0. 0. 0. 0. 0. 0. 0. 0. 0.]\n",
      " [0. 0. 0. 0. 0. 0. 0. 0. 0. 0.]\n",
      " [0. 0. 0. 0. 0. 0. 0. 0. 0. 0.]]\n",
      "<class 'numpy.ndarray'>\n"
     ]
    }
   ],
   "source": [
    "# Shape -- np.zeros() has a parameter of \"shape\" that must be given\n",
    "arr_zeros = np.zeros((5, 10)) # shape can be one number or a tuple of (rows, columns)\n",
    "\n",
    "print(arr_zeros)\n",
    "print(type(arr_zeros))"
   ]
  },
  {
   "cell_type": "code",
   "execution_count": 10,
   "metadata": {},
   "outputs": [
    {
     "data": {
      "text/plain": [
       "array([[0., 0., 0., 0., 0., 0., 0., 0., 0., 0.],\n",
       "       [0., 0., 0., 0., 0., 0., 0., 0., 0., 0.],\n",
       "       [0., 0., 0., 0., 0., 0., 0., 0., 0., 0.],\n",
       "       [0., 0., 0., 0., 0., 0., 0., 0., 0., 0.],\n",
       "       [0., 0., 0., 0., 0., 0., 0., 0., 0., 0.]])"
      ]
     },
     "execution_count": 10,
     "metadata": {},
     "output_type": "execute_result"
    }
   ],
   "source": [
    "arr_zeros"
   ]
  },
  {
   "cell_type": "markdown",
   "metadata": {},
   "source": [
    "###### - np.ones()"
   ]
  },
  {
   "cell_type": "code",
   "execution_count": 11,
   "metadata": {
    "scrolled": true
   },
   "outputs": [
    {
     "name": "stdout",
     "output_type": "stream",
     "text": [
      "[[1 1 1 1 1 1 1]\n",
      " [1 1 1 1 1 1 1]\n",
      " [1 1 1 1 1 1 1]]\n",
      "int32\n"
     ]
    }
   ],
   "source": [
    "arr_ones = np.ones((3, 7), int)\n",
    "print(arr_ones)\n",
    "print(arr_ones.dtype)\n",
    "# notice no dots after the numbers, because we specified the datatype to be integer"
   ]
  },
  {
   "cell_type": "code",
   "execution_count": 12,
   "metadata": {},
   "outputs": [
    {
     "name": "stdout",
     "output_type": "stream",
     "text": [
      "Help on function ones in module numpy:\n",
      "\n",
      "ones(shape, dtype=None, order='C', *, like=None)\n",
      "    Return a new array of given shape and type, filled with ones.\n",
      "    \n",
      "    Parameters\n",
      "    ----------\n",
      "    shape : int or sequence of ints\n",
      "        Shape of the new array, e.g., ``(2, 3)`` or ``2``.\n",
      "    dtype : data-type, optional\n",
      "        The desired data-type for the array, e.g., `numpy.int8`.  Default is\n",
      "        `numpy.float64`.\n",
      "    order : {'C', 'F'}, optional, default: C\n",
      "        Whether to store multi-dimensional data in row-major\n",
      "        (C-style) or column-major (Fortran-style) order in\n",
      "        memory.\n",
      "    like : array_like\n",
      "        Reference object to allow the creation of arrays which are not\n",
      "        NumPy arrays. If an array-like passed in as ``like`` supports\n",
      "        the ``__array_function__`` protocol, the result will be defined\n",
      "        by it. In this case, it ensures the creation of an array object\n",
      "        compatible with that passed in via this argument.\n",
      "    \n",
      "        .. versionadded:: 1.20.0\n",
      "    \n",
      "    Returns\n",
      "    -------\n",
      "    out : ndarray\n",
      "        Array of ones with the given shape, dtype, and order.\n",
      "    \n",
      "    See Also\n",
      "    --------\n",
      "    ones_like : Return an array of ones with shape and type of input.\n",
      "    empty : Return a new uninitialized array.\n",
      "    zeros : Return a new array setting values to zero.\n",
      "    full : Return a new array of given shape filled with value.\n",
      "    \n",
      "    \n",
      "    Examples\n",
      "    --------\n",
      "    >>> np.ones(5)\n",
      "    array([1., 1., 1., 1., 1.])\n",
      "    \n",
      "    >>> np.ones((5,), dtype=int)\n",
      "    array([1, 1, 1, 1, 1])\n",
      "    \n",
      "    >>> np.ones((2, 1))\n",
      "    array([[1.],\n",
      "           [1.]])\n",
      "    \n",
      "    >>> s = (2,2)\n",
      "    >>> np.ones(s)\n",
      "    array([[1.,  1.],\n",
      "           [1.,  1.]])\n",
      "\n"
     ]
    }
   ],
   "source": [
    "help(np.ones)"
   ]
  },
  {
   "cell_type": "markdown",
   "metadata": {},
   "source": [
    "###### - np.arange()"
   ]
  },
  {
   "cell_type": "code",
   "execution_count": 13,
   "metadata": {},
   "outputs": [
    {
     "name": "stdout",
     "output_type": "stream",
     "text": [
      "[ 5 10 15 20]\n"
     ]
    }
   ],
   "source": [
    "arr_range = np.arange(5, 25, 5)\n",
    "print(arr_range)"
   ]
  },
  {
   "cell_type": "markdown",
   "metadata": {},
   "source": [
    "###### - Making Lists into NDArrays"
   ]
  },
  {
   "cell_type": "code",
   "execution_count": 14,
   "metadata": {},
   "outputs": [
    {
     "data": {
      "text/plain": [
       "array([3, 5, 7, 2, 4, 2])"
      ]
     },
     "execution_count": 14,
     "metadata": {},
     "output_type": "execute_result"
    }
   ],
   "source": [
    "list_1 = [3, 5, 7, 2, 4, 2]\n",
    "\n",
    "arr_list = np.array(list_1)\n",
    "arr_list"
   ]
  },
  {
   "cell_type": "markdown",
   "metadata": {},
   "source": [
    "#### Performing Calculations on NDArrays"
   ]
  },
  {
   "cell_type": "markdown",
   "metadata": {},
   "source": [
    "###### - Summation"
   ]
  },
  {
   "cell_type": "code",
   "execution_count": 15,
   "metadata": {
    "scrolled": true
   },
   "outputs": [
    {
     "data": {
      "text/plain": [
       "array([15, 30, 45, 60, 75])"
      ]
     },
     "execution_count": 15,
     "metadata": {},
     "output_type": "execute_result"
    }
   ],
   "source": [
    "arr_list1 = np.array([5,10,15,20,25])\n",
    "arr_list2 = np.array([10,20,30,40,50])\n",
    "\n",
    "result_sum = arr_list1 + arr_list2\n",
    "result_sum"
   ]
  },
  {
   "cell_type": "markdown",
   "metadata": {},
   "source": [
    "###### - Difference"
   ]
  },
  {
   "cell_type": "code",
   "execution_count": 16,
   "metadata": {},
   "outputs": [
    {
     "data": {
      "text/plain": [
       "array([ 5, 10, 15, 20, 25])"
      ]
     },
     "execution_count": 16,
     "metadata": {},
     "output_type": "execute_result"
    }
   ],
   "source": [
    "result_diff = arr_list2 - arr_list1\n",
    "result_diff"
   ]
  },
  {
   "cell_type": "markdown",
   "metadata": {},
   "source": [
    "###### - Multiplication"
   ]
  },
  {
   "cell_type": "code",
   "execution_count": 17,
   "metadata": {},
   "outputs": [
    {
     "data": {
      "text/plain": [
       "array([  50,  200,  450,  800, 1250])"
      ]
     },
     "execution_count": 17,
     "metadata": {},
     "output_type": "execute_result"
    }
   ],
   "source": [
    "result_prod = arr_list1 * arr_list2\n",
    "result_prod"
   ]
  },
  {
   "cell_type": "markdown",
   "metadata": {},
   "source": [
    "###### - Division"
   ]
  },
  {
   "cell_type": "code",
   "execution_count": 18,
   "metadata": {},
   "outputs": [
    {
     "data": {
      "text/plain": [
       "array([2., 2., 2., 2., 2.])"
      ]
     },
     "execution_count": 18,
     "metadata": {},
     "output_type": "execute_result"
    }
   ],
   "source": [
    "result_quotient = arr_list2 / arr_list1\n",
    "result_quotient"
   ]
  },
  {
   "cell_type": "markdown",
   "metadata": {},
   "source": [
    "#### Floor Division"
   ]
  },
  {
   "cell_type": "code",
   "execution_count": 19,
   "metadata": {},
   "outputs": [
    {
     "data": {
      "text/plain": [
       "array([2, 2, 2, 2, 2], dtype=int32)"
      ]
     },
     "execution_count": 19,
     "metadata": {},
     "output_type": "execute_result"
    }
   ],
   "source": [
    "result_floor = arr_list2 // arr_list1\n",
    "result_floor"
   ]
  },
  {
   "cell_type": "markdown",
   "metadata": {},
   "source": [
    "#### Modulo"
   ]
  },
  {
   "cell_type": "code",
   "execution_count": 20,
   "metadata": {},
   "outputs": [
    {
     "data": {
      "text/plain": [
       "array([0, 0, 0, 0, 0], dtype=int32)"
      ]
     },
     "execution_count": 20,
     "metadata": {},
     "output_type": "execute_result"
    }
   ],
   "source": [
    "result_mod = arr_list2 % arr_list1\n",
    "result_mod"
   ]
  },
  {
   "cell_type": "markdown",
   "metadata": {},
   "source": [
    "#### Numpy Subsetting"
   ]
  },
  {
   "cell_type": "code",
   "execution_count": 21,
   "metadata": {},
   "outputs": [
    {
     "name": "stdout",
     "output_type": "stream",
     "text": [
      "[  50  200  450  800 1250]\n",
      "[ True  True  True False False]\n",
      "[ 50 200 450]\n"
     ]
    }
   ],
   "source": [
    "print(result_prod)\n",
    "print(result_prod < 800)\n",
    "print(result_prod[result_prod < 800])"
   ]
  },
  {
   "cell_type": "code",
   "execution_count": 22,
   "metadata": {},
   "outputs": [
    {
     "name": "stdout",
     "output_type": "stream",
     "text": [
      "[ True False False False]\n",
      "True\n"
     ]
    }
   ],
   "source": [
    "test_ndStrings = np.array(['Bob','Mark','Angelica','Barb'])\n",
    "print(test_ndStrings == 'Bob')\n",
    "print(test_ndStrings[0] == 'Bob')\n",
    "# print(test_ndStrings[test_ndStrings[0] == 'B'])\n",
    "\n",
    "# conditional check, returns true or false\n",
    "# print(arr1 < 2)\n",
    "# print(arr2 >= 2)\n",
    "\n",
    "# conditional check, that returns the elements that meet the given condition\n"
   ]
  },
  {
   "cell_type": "markdown",
   "metadata": {},
   "source": [
    "#### Multi-dimensional Arrays <br>\n",
    "<p>NumPy seamlessly supports multidimensional arrays and matrices of arbitrary dimension without nesting NDArrays. NDArrays themselves are flexible and extensible and may be defined with such dimensions, with a rich API of common functions to facilitate their use. Let's start by building a two dimensional 3x3 matrix by conversion from a nested group of core python lists $M = [l_0, l_1, l_2]$:</p>"
   ]
  },
  {
   "cell_type": "code",
   "execution_count": 23,
   "metadata": {},
   "outputs": [
    {
     "name": "stdout",
     "output_type": "stream",
     "text": [
      "[[0, 1, 2], [3, 4, 5], [6, 7, 8]]\n",
      "4\n",
      "<class 'list'>\n",
      "[[0 1 2]\n",
      " [3 4 5]\n",
      " [6 7 8]]\n"
     ]
    },
    {
     "data": {
      "text/plain": [
       "array([[0, 1, 2],\n",
       "       [3, 4, 5],\n",
       "       [6, 7, 8]])"
      ]
     },
     "execution_count": 23,
     "metadata": {},
     "output_type": "execute_result"
    }
   ],
   "source": [
    "aList = [0,1,2]\n",
    "bList = [3,4,5]\n",
    "cList = [6,7,8]\n",
    "\n",
    "# first step: convert lists into a Matrix\n",
    "M = [aList, bList, cList]\n",
    "print(M)\n",
    "print(M[1][1])\n",
    "print(type(M))\n",
    "# second step: place Matrix inside NDArray\n",
    "ND_M = np.array(M)\n",
    "print(ND_M)\n",
    "ND_M"
   ]
  },
  {
   "cell_type": "markdown",
   "metadata": {},
   "source": [
    "#### Indexing NDArrays <br>\n",
    "<p> Similar to lists within lists; however, the syntax looks more like C programming language.... It is [1, 2] to access the second row, third element.</p>"
   ]
  },
  {
   "cell_type": "code",
   "execution_count": 24,
   "metadata": {},
   "outputs": [
    {
     "name": "stdout",
     "output_type": "stream",
     "text": [
      "[[0 1 2]\n",
      " [3 4 5]\n",
      " [6 7 8]]\n",
      "4\n"
     ]
    }
   ],
   "source": [
    "# Syntax - Matrix[row,column] (row and column are 0-based index)\n",
    "\n",
    "print(ND_M)\n",
    "print(ND_M[1,1]) # second row, second column"
   ]
  },
  {
   "cell_type": "markdown",
   "metadata": {},
   "source": [
    "#### Assigning Values in NDArrays"
   ]
  },
  {
   "cell_type": "code",
   "execution_count": 25,
   "metadata": {},
   "outputs": [
    {
     "name": "stdout",
     "output_type": "stream",
     "text": [
      "[[ 0  1  2]\n",
      " [ 3 10  5]\n",
      " [ 6  7  8]]\n"
     ]
    }
   ],
   "source": [
    "# Syntax - Matrix[row, column] = value\n",
    "\n",
    "ND_M[1,1] = 10\n",
    "\n",
    "print(ND_M)"
   ]
  },
  {
   "cell_type": "markdown",
   "metadata": {},
   "source": [
    "#### Checking NDArray Type"
   ]
  },
  {
   "cell_type": "code",
   "execution_count": 26,
   "metadata": {},
   "outputs": [
    {
     "name": "stdout",
     "output_type": "stream",
     "text": [
      "int32\n"
     ]
    },
    {
     "data": {
      "text/plain": [
       "dtype('int32')"
      ]
     },
     "execution_count": 26,
     "metadata": {},
     "output_type": "execute_result"
    }
   ],
   "source": [
    "# usind the .dtype attribute\n",
    "nd_type = ND_M.dtype\n",
    "\n",
    "print(nd_type)\n",
    "nd_type"
   ]
  },
  {
   "cell_type": "markdown",
   "metadata": {},
   "source": [
    "#### .astype()"
   ]
  },
  {
   "cell_type": "code",
   "execution_count": 27,
   "metadata": {},
   "outputs": [
    {
     "name": "stdout",
     "output_type": "stream",
     "text": [
      "Before change: int32\n",
      "New changed type: float32\n"
     ]
    }
   ],
   "source": [
    "print(f\"Before change: {ND_M.dtype}\")\n",
    "\n",
    "new_ND_M = ND_M.astype(np.float32)\n",
    "\n",
    "print(f\"New changed type: {new_ND_M.dtype}\")"
   ]
  },
  {
   "cell_type": "code",
   "execution_count": 28,
   "metadata": {},
   "outputs": [
    {
     "name": "stdout",
     "output_type": "stream",
     "text": [
      "[[ 0  1  2]\n",
      " [ 3 10  5]\n",
      " [ 6  7  8]]\n",
      "[[ 0.  1.  2.]\n",
      " [ 3. 10.  5.]\n",
      " [ 6.  7.  8.]]\n"
     ]
    }
   ],
   "source": [
    "print(ND_M)\n",
    "print(new_ND_M)"
   ]
  },
  {
   "cell_type": "code",
   "execution_count": 29,
   "metadata": {},
   "outputs": [],
   "source": [
    "# Checking the Shape of the ND_M Numpy Array\n",
    "# Using the method .shape\n"
   ]
  },
  {
   "cell_type": "markdown",
   "metadata": {},
   "source": [
    "#### Checking the Shape <br>\n",
    "<p>The behavior and properties of an NDArray are often sensitively dependent on the $\\textit{shape}$ of the NDArray itself. The shape of an array can be found by calling the .shape method, which will return a tuple containing the array's dimensions:</p>"
   ]
  },
  {
   "cell_type": "code",
   "execution_count": 30,
   "metadata": {},
   "outputs": [
    {
     "name": "stdout",
     "output_type": "stream",
     "text": [
      "(3, 3)\n",
      "<class 'tuple'>\n"
     ]
    }
   ],
   "source": [
    " # shape is always rows x columns\n",
    "# Checking the Shape of the ND_M Numpy Array\n",
    "# Using the .shape attribute\n",
    "\n",
    "shape = new_ND_M.shape\n",
    "print(shape)\n",
    "print(type(shape))"
   ]
  },
  {
   "cell_type": "markdown",
   "metadata": {},
   "source": [
    "#### Altering the Shape <br>\n",
    "<p>As long as the number of elements remains fixed, we can reshape NDArrays at will:</p>"
   ]
  },
  {
   "cell_type": "code",
   "execution_count": 31,
   "metadata": {},
   "outputs": [
    {
     "name": "stdout",
     "output_type": "stream",
     "text": [
      "[[ 0.]\n",
      " [ 1.]\n",
      " [ 2.]\n",
      " [ 3.]\n",
      " [10.]\n",
      " [ 5.]\n",
      " [ 6.]\n",
      " [ 7.]\n",
      " [ 8.]]\n"
     ]
    }
   ],
   "source": [
    "# Change the shape of the numpy array\n",
    "# Using the method .reshape()\n",
    "\n",
    "# The reshape should be a multiple of the original shape\n",
    "# Meaning we can have a shape of (1,9) or (9,1) or (3,3)\n",
    "\n",
    "# (9,1) == 9 rows , 1 column\n",
    "\n",
    "\n",
    "print(new_ND_M.reshape((9, 1)))"
   ]
  },
  {
   "cell_type": "code",
   "execution_count": 32,
   "metadata": {},
   "outputs": [],
   "source": [
    "# keep in mind that the shape numbers do matter, (9, 1) is different than (1, 9)\n"
   ]
  },
  {
   "cell_type": "markdown",
   "metadata": {},
   "source": [
    "#### In-Class Exercise #2 - Create a matrix of range 0 up to 16 and reshape it into a 4x4 matrix"
   ]
  },
  {
   "cell_type": "code",
   "execution_count": 34,
   "metadata": {},
   "outputs": [],
   "source": [
    "\"\"\"\n",
    "OUTPUT\n",
    "array([[ 0,  1,  2,  3],\n",
    "       [ 4,  5,  6,  7],\n",
    "       [ 8,  9, 10, 11],\n",
    "       [12, 13, 14, 15]])\n",
    "\"\"\"\n",
    "x = np.arange(16).reshape((4,4))"
   ]
  },
  {
   "cell_type": "markdown",
   "metadata": {},
   "source": [
    "#### Complex Indexing & Assinging"
   ]
  },
  {
   "cell_type": "code",
   "execution_count": 42,
   "metadata": {},
   "outputs": [
    {
     "data": {
      "text/plain": [
       "[1, 2, 3, 4, 5]"
      ]
     },
     "execution_count": 42,
     "metadata": {},
     "output_type": "execute_result"
    }
   ],
   "source": [
    "my_list = [1, 2, 3, 4, 5]\n",
    "my_list[:]"
   ]
  },
  {
   "cell_type": "code",
   "execution_count": 63,
   "metadata": {
    "scrolled": false
   },
   "outputs": [
    {
     "name": "stdout",
     "output_type": "stream",
     "text": [
      "Setting Matrix\n",
      "Before any assignment:\n",
      "[[0. 0. 0. 0. 0. 0.]\n",
      " [0. 0. 0. 0. 0. 0.]\n",
      " [0. 0. 0. 0. 0. 0.]\n",
      " [0. 0. 0. 0. 0. 0.]\n",
      " [0. 0. 0. 0. 0. 0.]\n",
      " [0. 0. 0. 0. 0. 0.]]\n",
      "\n",
      "After assigning 1 to first column:\n",
      "[[1. 0. 0. 0. 0. 0.]\n",
      " [1. 0. 0. 0. 0. 0.]\n",
      " [1. 0. 0. 0. 0. 0.]\n",
      " [1. 0. 0. 0. 0. 0.]\n",
      " [1. 0. 0. 0. 0. 0.]\n",
      " [1. 0. 0. 0. 0. 0.]]\n",
      "\n",
      "After assigning 5 to rows 3-5:\n",
      "[[1. 0. 0. 0. 0. 0.]\n",
      " [1. 0. 0. 0. 0. 0.]\n",
      " [5. 5. 5. 5. 5. 5.]\n",
      " [5. 5. 5. 5. 5. 5.]\n",
      " [5. 5. 5. 5. 5. 5.]\n",
      " [1. 0. 0. 0. 0. 0.]]\n",
      "Reset to Zero\n",
      "[[0. 0. 0. 0. 0. 0.]\n",
      " [0. 0. 0. 0. 0. 0.]\n",
      " [0. 0. 0. 0. 0. 0.]\n",
      " [0. 0. 0. 0. 0. 0.]\n",
      " [0. 0. 0. 0. 0. 0.]\n",
      " [0. 0. 0. 0. 0. 0.]]\n",
      "\n",
      "After assigning 2 to columns two and three:\n",
      "[[0. 2. 2. 0. 0. 0.]\n",
      " [0. 2. 2. 0. 0. 0.]\n",
      " [0. 2. 2. 0. 0. 0.]\n",
      " [0. 2. 2. 0. 0. 0.]\n",
      " [0. 2. 2. 0. 0. 0.]\n",
      " [0. 2. 2. 0. 0. 0.]]\n",
      "\n",
      "After assigning 100 to every other row:\n",
      "[[100. 100. 100. 100. 100. 100.]\n",
      " [  0.   2.   2.   0.   0.   0.]\n",
      " [100. 100. 100. 100. 100. 100.]\n",
      " [  0.   2.   2.   0.   0.   0.]\n",
      " [100. 100. 100. 100. 100. 100.]\n",
      " [  0.   2.   2.   0.   0.   0.]]\n",
      "Reset to Zero\n",
      "[[0. 0. 0. 0. 0. 0.]\n",
      " [0. 0. 0. 0. 0. 0.]\n",
      " [0. 0. 0. 0. 0. 0.]\n",
      " [0. 0. 0. 0. 0. 0.]\n",
      " [0. 0. 0. 0. 0. 0.]\n",
      " [0. 0. 0. 0. 0. 0.]]\n",
      "\n",
      "After assigning the vector to the first row:\n",
      "[[0. 1. 2. 3. 4. 5.]\n",
      " [0. 0. 0. 0. 0. 0.]\n",
      " [0. 0. 0. 0. 0. 0.]\n",
      " [0. 0. 0. 0. 0. 0.]\n",
      " [0. 0. 0. 0. 0. 0.]\n",
      " [0. 0. 0. 0. 0. 0.]]\n"
     ]
    }
   ],
   "source": [
    "# Refresh - Matrix[row(s), column(s)]\n",
    "\n",
    "print('Setting Matrix')\n",
    "M = np.zeros((6,6))\n",
    "print('Before any assignment:')\n",
    "print(M)\n",
    "\n",
    "# Set every first element in each row to 1 (first column)\n",
    "M[:, 0] = 1\n",
    "print('\\nAfter assigning 1 to first column:')\n",
    "print(M)\n",
    "\n",
    "# Set all elements in rows 3 to 5 to be 5\n",
    "M[2:5, :] = 5\n",
    "print('\\nAfter assigning 5 to rows 3-5:')\n",
    "print(M)\n",
    "\n",
    "\n",
    "# Reset to 0s\n",
    "print('Reset to Zero')\n",
    "M = M * 0\n",
    "print(M)\n",
    "\n",
    "# Set the second and third column to be the number 2\n",
    "M[:,1:3] = 2\n",
    "print('\\nAfter assigning 2 to columns two and three:')\n",
    "print(M)\n",
    "\n",
    "# Set every other row to be 100\n",
    "M[::2 , :] = 100\n",
    "print('\\nAfter assigning 100 to every other row:')\n",
    "print(M)\n",
    "\n",
    "print('Reset to Zero')\n",
    "M = M * 0\n",
    "print(M)\n",
    "\n",
    "# Create a vector to assign to the first row\n",
    "x = np.arange(6)\n",
    "M[0, :] = x\n",
    "print('\\nAfter assigning the vector to the first row:')\n",
    "print(M)"
   ]
  },
  {
   "cell_type": "code",
   "execution_count": 52,
   "metadata": {},
   "outputs": [
    {
     "data": {
      "text/plain": [
       "[0, 5, 10, 15, 20, 25, 30, 35, 40, 45, 50, 55, 60, 65, 70, 75, 80, 85, 90, 95]"
      ]
     },
     "execution_count": 52,
     "metadata": {},
     "output_type": "execute_result"
    }
   ],
   "source": [
    "my_list = [i for i in range(100)]\n",
    "my_list[::5]"
   ]
  },
  {
   "cell_type": "markdown",
   "metadata": {},
   "source": [
    "#### Elementwise Multiplication"
   ]
  },
  {
   "cell_type": "markdown",
   "metadata": {},
   "source": [
    "<p>As long as the shapes of NDArrays are 'compatible', they can be multiplied elementwise, broadcasted, used in inner products, and much much more. 'Compatible' in this context can mean compatible in the linear algebraic sense, i.e. for inner products and other matrix multiplication, or simply sharing a dimension in such a manner that broadcasting 'makes sense'. Here are some examples of this:</p>"
   ]
  },
  {
   "cell_type": "code",
   "execution_count": 71,
   "metadata": {},
   "outputs": [
    {
     "name": "stdout",
     "output_type": "stream",
     "text": [
      "[[1. 1. 1. 1.]\n",
      " [1. 1. 1. 1.]\n",
      " [1. 1. 1. 1.]\n",
      " [1. 1. 1. 1.]\n",
      " [1. 1. 1. 1.]\n",
      " [1. 1. 1. 1.]\n",
      " [1. 1. 1. 1.]\n",
      " [1. 1. 1. 1.]\n",
      " [1. 1. 1. 1.]\n",
      " [1. 1. 1. 1.]]\n",
      "[0 1 2 3 4]\n",
      "(10, 4) (5,)\n",
      "[[0. 1. 2. 3. 4.]\n",
      " [0. 1. 2. 3. 4.]\n",
      " [0. 1. 2. 3. 4.]\n",
      " [0. 1. 2. 3. 4.]\n",
      " [0. 1. 2. 3. 4.]\n",
      " [0. 1. 2. 3. 4.]\n",
      " [0. 1. 2. 3. 4.]\n",
      " [0. 1. 2. 3. 4.]]\n"
     ]
    }
   ],
   "source": [
    "M = np.ones((10, 4))\n",
    "\n",
    "print(M)\n",
    "\n",
    "v = np.arange(5)\n",
    "\n",
    "print(v)\n",
    "\n",
    "print(M.shape, v.shape)\n",
    "\n",
    "new_M = M.reshape((8,5))* v\n",
    "print(new_M)"
   ]
  },
  {
   "cell_type": "markdown",
   "metadata": {},
   "source": [
    "#### np.where() <br>\n",
    "<p>If statement within NDArrays that allows you to run conditionals on the entire array</p>"
   ]
  },
  {
   "cell_type": "code",
   "execution_count": 79,
   "metadata": {},
   "outputs": [
    {
     "name": "stdout",
     "output_type": "stream",
     "text": [
      "[  50  200  450  800 1250]\n",
      "[ True  True  True False False]\n",
      "(array([0, 1, 2], dtype=int64),)\n",
      "[ 50 200 450]\n",
      "[1000  200 1000  800 1000]\n"
     ]
    }
   ],
   "source": [
    "arr_list1 = np.array([5,10,15,20,25])\n",
    "arr_list2 = np.array([10,20,30,40,50])\n",
    "result_prod = arr_list1 * arr_list2\n",
    "print(result_prod)\n",
    "print(result_prod < 800)\n",
    "print(np.where(result_prod < 800))\n",
    "\n",
    "\n",
    "# Subset using np.where\n",
    "print(result_prod[np.where(result_prod < 800)])\n",
    "\n",
    "# Transform data\n",
    "result_prod[np.where(result_prod % 100 == 50)] = 1000\n",
    "print(result_prod)"
   ]
  },
  {
   "cell_type": "markdown",
   "metadata": {},
   "source": [
    "#### Random Sampling <br>\n",
    "<p>NumPy provides machinery to work with random numbers - something often needed in a broad spectrum of data science applications.</p>"
   ]
  },
  {
   "cell_type": "code",
   "execution_count": 122,
   "metadata": {},
   "outputs": [
    {
     "name": "stdout",
     "output_type": "stream",
     "text": [
      "Here is a random number: 0.6752422385169765\n",
      "Here is a random number between 0 and 1 Million: 334340.0520219714\n",
      "Here are 5 random numbers between 0 and 10: [3.39934694 0.95637396 1.8887385  0.8910185  1.65580328]\n",
      "Here is a 3x3 matrix with numbers between 0 and 10: \n",
      " [[1.58548686 0.79349192 3.26421854]\n",
      " [8.12900068 9.51114874 2.27113318]\n",
      " [3.97575267 3.90326795 6.16665046]]\n"
     ]
    }
   ],
   "source": [
    "# np.random.uniform()\n",
    "\n",
    "# A single call generates a single random number between 0 and 1\n",
    "\n",
    "print('Here is a random number: %s' % np.random.uniform())\n",
    "\n",
    "# You can also pass some parameters or bounds\n",
    "\n",
    "print('Here is a random number between 0 and 1 Million: %s' % np.random.uniform(0, 1e6))\n",
    "\n",
    "# You can also generate a bunch of random numbers all at once\n",
    "\n",
    "print('Here are 5 random numbers between 0 and 10: %s' % np.random.uniform(0, 10, 5))\n",
    "\n",
    "# Even matrices with shapes as a parameter\n",
    "\n",
    "print('Here is a 3x3 matrix with numbers between 0 and 10: \\n %s' % np.random.uniform(0, 10, (3, 3)))"
   ]
  },
  {
   "cell_type": "markdown",
   "metadata": {},
   "source": [
    "## Working With CSV's"
   ]
  },
  {
   "cell_type": "markdown",
   "metadata": {},
   "source": [
    "#### Imports"
   ]
  },
  {
   "cell_type": "code",
   "execution_count": 124,
   "metadata": {},
   "outputs": [],
   "source": [
    "import csv\n",
    "from datetime import datetime"
   ]
  },
  {
   "cell_type": "markdown",
   "metadata": {},
   "source": [
    "#### Reading a CSV"
   ]
  },
  {
   "cell_type": "code",
   "execution_count": 125,
   "metadata": {},
   "outputs": [],
   "source": [
    "# Creating Function to open and read CSV data\n",
    "\n",
    "def open_csv(filename, d=','):\n",
    "    # define an empty list to store our data\n",
    "    data = []\n",
    "    \n",
    "    # open up the file \n",
    "    with open(filename, encoding='utf-8') as marathon_data:\n",
    "        # and create csv reader object\n",
    "        reader = csv.reader(marathon_data, delimiter=d)\n",
    "        \n",
    "        # Iterate over each row in the csv and append it to the data list\n",
    "        for row in reader:\n",
    "            data.append(row)\n",
    "    return data\n",
    "\n",
    "marathon_data = open_csv('boston_marathon2017_edited.csv')\n",
    "\n",
    "\n",
    "            "
   ]
  },
  {
   "cell_type": "code",
   "execution_count": 129,
   "metadata": {},
   "outputs": [
    {
     "name": "stdout",
     "output_type": "stream",
     "text": [
      "[['10K', '15K', '20K', '25K', '30K', '35K', '40K', '5K', 'Age', 'Bib', 'Overall Time in Seconds', 'Citizenship', 'Male Average Times', 'Females Average Times', 'City', 'Country', 'Division', 'Gender', 'Half', 'M/F', 'Name', 'Number of Records', 'Official Time', 'Overall', 'Pace', 'State'], ['12/30/1899 12:30:28 AM', '12/30/1899 12:45:44 AM', '12/30/1899 1:01:15 AM', '12/30/1899 1:16:59 AM', '12/30/1899 1:33:01 AM', '12/30/1899 1:48:19 AM', '12/30/1899 2:02:53 AM', '12/30/1899 12:15:25 AM', '24', '11', '7777', 'KEN', '7777', '', 'Keringet', 'KEN', '1', '1', '12/30/1899 1:04:35 AM', 'M', 'Kirui, Geoffrey', '1', '12/30/1899 2:09:37 AM', '1', '12/30/1899 12:04:57 AM', ''], ['12/30/1899 12:30:27 AM', '12/30/1899 12:45:44 AM', '12/30/1899 1:01:15 AM', '12/30/1899 1:16:59 AM', '12/30/1899 1:33:01 AM', '12/30/1899 1:48:19 AM', '12/30/1899 2:03:14 AM', '12/30/1899 12:15:24 AM', '30', '17', '7798', 'USA', '7798', '', 'Portland', 'USA', '2', '2', '12/30/1899 1:04:35 AM', 'M', 'Rupp, Galen', '1', '12/30/1899 2:09:58 AM', '2', '12/30/1899 12:04:58 AM', 'OR'], ['12/30/1899 12:30:29 AM', '12/30/1899 12:45:44 AM', '12/30/1899 1:01:16 AM', '12/30/1899 1:17:00 AM', '12/30/1899 1:33:01 AM', '12/30/1899 1:48:31 AM', '12/30/1899 2:03:38 AM', '12/30/1899 12:15:25 AM', '25', '23', '7828', 'JPN', '7828', '', 'Machida-City', 'JPN', '3', '3', '12/30/1899 1:04:36 AM', 'M', 'Osako, Suguru', '1', '12/30/1899 2:10:28 AM', '3', '12/30/1899 12:04:59 AM', ''], ['12/30/1899 12:30:29 AM', '12/30/1899 12:45:44 AM', '12/30/1899 1:01:19 AM', '12/30/1899 1:17:00 AM', '12/30/1899 1:33:01 AM', '12/30/1899 1:48:58 AM', '12/30/1899 2:04:35 AM', '12/30/1899 12:15:25 AM', '32', '21', '7928', 'USA', '7928', '', 'Mammoth Lakes', 'USA', '4', '4', '12/30/1899 1:04:45 AM', 'M', 'Biwott, Shadrack', '1', '12/30/1899 2:12:08 AM', '4', '12/30/1899 12:05:03 AM', 'CA']]\n"
     ]
    }
   ],
   "source": []
  },
  {
   "cell_type": "markdown",
   "metadata": {},
   "source": [
    "#### Loading a CSV's Data "
   ]
  },
  {
   "cell_type": "code",
   "execution_count": 215,
   "metadata": {},
   "outputs": [
    {
     "name": "stdout",
     "output_type": "stream",
     "text": [
      "[b'Christian Vazquez' b'Mitch Moreland' b'Dustin Pedroia'\n",
      " b'Xander Bogaerts' b'Rafael Devers' b'Andrew Benintendi'\n",
      " b'Jackie Bradley Jr.' b'Mookie Betts' b'Hanley Ramirez' b'Sandy Leon'\n",
      " b'Chris Young' b'Deven Marrero' b'Eduardo Nunez' b'Brock Holt'\n",
      " b'Josh Rutledge' b'Pablo Sandoval' b'Sam Travis' b'Tzu-Wei Lin'\n",
      " b'Marco Hernandez' b'Rajai Davis' b'Steve Selsky' b'Blake Swihart'\n",
      " b\"Chase d'Arnaud\"]\n",
      "<class 'numpy.ndarray'>\n",
      "[ 94 125 119 156  63 155 118 166 120  61  57  36  53  28  24  21  20  15\n",
      "  16   9   1   1   1]\n",
      "1459\n",
      "[ 5 22  7 10 10 20 17 24 23  7  7  4  8  0  0  4  0  0  0  0  0  0  0]\n",
      "168\n"
     ]
    }
   ],
   "source": [
    "FIELDS = ['Rank', 'Pos', 'Name', 'Age', 'G', 'PA', 'AB', 'R', 'H', '2B', '3B', 'HR', 'RBI', 'SB', 'CS', \n",
    "          'BB', 'SO', 'BA', 'OBP', 'SLG', 'OPS', 'OPS+', 'TB', 'GDP', 'HBP', 'SH', 'SF', 'IBB']\n",
    "\n",
    "DATATYPES = [('rank', 'i'), ('pos', '|S25'), ('name', '|S25'), ('age', 'i'), ('g', 'i'), ('pa', 'i'), ('ab', 'i'),\n",
    "                ('r', 'i'), ('h', 'i'), ('2b', 'i'), ('3b', 'i'), ('hr', 'i'), ('rbi', 'i'), ('sb', 'i'), ('cs', 'i'),\n",
    "                ('bb', 'i'), ('so', 'i'), ('ba', 'f'), ('obp', 'f'), ('slg', 'f'), ('ops', 'f'), ('opsp', 'i'),\n",
    "                ('tb', 'i'), ('gdp', 'i'), ('hbp', 'i'), ('sh', 'i'), ('sf', 'i'), ('ibb', 'i')]\n",
    "\n",
    "\n",
    "\n",
    "# instead of loading csv normally, let's load it into a numpy array to calculate results on\n",
    "def load_data(filename, d=','):\n",
    "    data = np.genfromtxt(filename, dtype=DATATYPES, delimiter=d, names=True, invalid_raise=False)\n",
    "    return data\n",
    "    \n",
    "    \n",
    "redsox17 = load_data('redsox_2017_hitting.txt')\n",
    "redsox17\n",
    "names = redsox17['Name']\n",
    "print(names)\n",
    "print(type(names))\n",
    "\n",
    "hits = redsox17['H']\n",
    "print(hits)\n",
    "total_hits = sum(hits)\n",
    "print(total_hits)\n",
    "\n",
    "\n",
    "home_runs = redsox17['HR']\n",
    "print(home_runs)\n",
    "total_hrs = sum(home_runs)\n",
    "print(total_hrs)\n"
   ]
  },
  {
   "cell_type": "code",
   "execution_count": 209,
   "metadata": {},
   "outputs": [
    {
     "data": {
      "text/plain": [
       "array([( 1, b'C', b'Sandy Leon', 29,  89, 288, 265,  30,  47, 12, 0,  5,  22,  1, 0, 15,  75, 0.177, 0.232, 0.279, 0.511,  37,  74,  6,  4, 3, 1,  0),\n",
       "       ( 2, b'1B', b'Mitch Moreland', 32, 124, 459, 404,  57,  99, 23, 4, 15,  68,  2, 0, 50, 102, 0.245, 0.325, 0.433, 0.758, 102, 175, 12,  0, 0, 5,  2),\n",
       "       ( 3, b'2B', b'Eduardo Nunez', 31, 127, 502, 480,  56, 127, 23, 3, 10,  44,  7, 2, 16,  69, 0.265, 0.289, 0.388, 0.677,  81, 186, 17,  2, 1, 3,  0),\n",
       "       ( 4, b'SS', b'Xander Bogaerts', 25, 136, 580, 513,  72, 148, 45, 3, 23, 103,  8, 2, 55, 102, 0.288, 0.36 , 0.522, 0.883, 135, 268, 14,  6, 0, 6,  4),\n",
       "       ( 5, b'3B', b'Rafael Devers', 21, 121, 490, 450,  59, 108, 24, 0, 21,  66,  5, 2, 38, 121, 0.24 , 0.298, 0.433, 0.731,  94, 195,  9,  0, 0, 2,  6),\n",
       "       ( 6, b'LF', b'Andrew Benintendi', 23, 148, 661, 579, 103, 168, 41, 6, 16,  87, 21, 3, 71, 106, 0.29 , 0.366, 0.465, 0.83 , 123, 269,  9,  2, 2, 7,  1),\n",
       "       ( 7, b'CF', b'Jackie Bradley Jr.', 28, 144, 535, 474,  76, 111, 33, 4, 13,  59, 17, 1, 46, 137, 0.234, 0.314, 0.403, 0.717,  92, 191,  6, 11, 0, 4,  3),\n",
       "       ( 8, b'RF', b'Mookie Betts', 25, 136, 614, 520, 129, 180, 47, 5, 32,  80, 30, 6, 81,  91, 0.346, 0.438, 0.64 , 1.078, 186, 333,  5,  8, 0, 5,  8),\n",
       "       ( 9, b'DH', b'J.D. Martinez', 30, 150, 649, 569, 111, 188, 37, 2, 43, 130,  6, 1, 69, 146, 0.33 , 0.402, 0.629, 1.031, 173, 358, 19,  4, 0, 7, 11),\n",
       "       (10, b'MI', b'Brock Holt', 30, 109, 367, 321,  41,  89, 18, 2,  7,  46,  7, 7, 37,  73, 0.277, 0.362, 0.411, 0.774, 109, 132,  7,  7, 0, 2,  2),\n",
       "       (11, b'C', b'Christian Vazquez', 27,  80, 269, 251,  24,  52, 10, 0,  3,  16,  4, 1, 13,  41, 0.207, 0.257, 0.283, 0.54 ,  46,  71,  5,  4, 1, 0,  1),\n",
       "       (12, b'UT', b'Blake Swihart', 26,  82, 207, 192,  28,  44, 10, 0,  3,  18,  6, 1, 15,  57, 0.229, 0.285, 0.328, 0.613,  65,  63,  4,  0, 0, 0,  0),\n",
       "       (13, b'UT', b'Hanley Ramirez', 34,  44, 195, 177,  25,  45,  7, 0,  6,  29,  4, 1, 14,  35, 0.254, 0.313, 0.395, 0.708,  90,  70,  9,  2, 0, 2,  0),\n",
       "       (14, b'1B', b'Steve Pearce', 35,  50, 165, 136,  19,  38,  8, 1,  7,  26,  0, 0, 22,  27, 0.279, 0.394, 0.507, 0.901, 141,  69,  1,  5, 0, 2,  0),\n",
       "       (15, b'2B', b'Ian Kinsler', 36,  37, 143, 132,  17,  32,  6, 0,  1,  16,  7, 3, 10,  24, 0.242, 0.294, 0.311, 0.604,  64,  41,  5,  0, 0, 1,  0),\n",
       "       (16, b'SS', b'Tzu-Wei Lin', 24,  37,  73,  65,  15,  16,  6, 1,  1,   6,  0, 1,  8,  17, 0.246, 0.329, 0.415, 0.744, 100,  27,  0,  0, 0, 0,  0),\n",
       "       (17, b'UT', b'Sam Travis', 24,  19,  38,  36,   5,   8,  3, 0,  1,   7,  0, 0,  2,  10, 0.222, 0.263, 0.389, 0.652,  73,  14,  1,  0, 0, 0,  0),\n",
       "       (18, b'UT', b'Brandon Phillips', 37,   9,  27,  23,   4,   3,  0, 0,  1,   2,  0, 0,  4,   7, 0.13 , 0.259, 0.261, 0.52 ,  42,   6,  1,  0, 0, 0,  0),\n",
       "       (19, b'2B', b'Dustin Pedroia', 34,   3,  13,  11,   1,   1,  0, 0,  0,   0,  0, 0,  2,   1, 0.091, 0.231, 0.091, 0.322,  -7,   1,  0,  0, 0, 0,  0),\n",
       "       (20, b'C', b'Dan Butler', 31,   2,   7,   6,   0,   1,  0, 0,  0,   1,  0, 0,  0,   2, 0.167, 0.143, 0.167, 0.31 , -17,   1,  0,  0, 0, 1,  0)],\n",
       "      dtype=[('Rk', '<i4'), ('Pos', 'S25'), ('Name', 'S25'), ('Age', '<i4'), ('G', '<i4'), ('PA', '<i4'), ('AB', '<i4'), ('R', '<i4'), ('H', '<i4'), ('2B', '<i4'), ('3B', '<i4'), ('HR', '<i4'), ('RBI', '<i4'), ('SB', '<i4'), ('CS', '<i4'), ('BB', '<i4'), ('SO', '<i4'), ('BA', '<f4'), ('OBP', '<f4'), ('SLG', '<f4'), ('OPS', '<f4'), ('OPS_1', '<i4'), ('TB', '<i4'), ('GDP', '<i4'), ('HBP', '<i4'), ('SH', '<i4'), ('SF', '<i4'), ('IBB', '<i4')])"
      ]
     },
     "execution_count": 209,
     "metadata": {},
     "output_type": "execute_result"
    }
   ],
   "source": [
    "redsox18 = load_data('redsox_2018_hitting.txt')\n",
    "redsox18"
   ]
  },
  {
   "cell_type": "markdown",
   "metadata": {},
   "source": [
    "#### Summing the top 5 hitters for HR's"
   ]
  },
  {
   "cell_type": "code",
   "execution_count": 223,
   "metadata": {},
   "outputs": [
    {
     "name": "stdout",
     "output_type": "stream",
     "text": [
      "[('Mookie Betts', 24), ('Hanley Ramirez', 23), ('Mitch Moreland', 22), ('Andrew Benintendi', 20), ('Jackie Bradley Jr.', 17)]\n"
     ]
    }
   ],
   "source": [
    "# find the top 5 hr hitters\n",
    "\n",
    "# Step 1: Get all HR data into a variable\n",
    "# Step 2: Get all the player names into a variable\n",
    "# Step 3: Create a new empty list for decoded names\n",
    "# Step 4: Loop through and decode each name and append to new list\n",
    "# Step 5: Line up our player names with our hr data [(player, number_of_hr), (player2, number_of_hr),...]\n",
    "# Step 6: Sort values based on number of home runs\n",
    "# Step 7: Slice list to first 5\n",
    "\n",
    "# Step 1\n",
    "all_home_runs = redsox17['HR']\n",
    "# print(all_home_runs)\n",
    "\n",
    "# Step 2\n",
    "all_players = redsox17['Name']\n",
    "# print(all_players)\n",
    "\n",
    "# Step 3\n",
    "clean_names = []\n",
    "\n",
    "# Step 4\n",
    "for name in all_players:\n",
    "    decoded_name = name.decode('utf-8')\n",
    "    clean_names.append(decoded_name)\n",
    "# print(clean_names)\n",
    "\n",
    "# Step 5\n",
    "zipped_values = list(zip(clean_names, all_home_runs))\n",
    "# print(zipped_values)\n",
    "\n",
    "# Step 6\n",
    "sorted_home_runs = sorted(zipped_values, key=lambda player_tup: player_tup[1], reverse=True)\n",
    "# print(sorted_home_runs)\n",
    "\n",
    "# Step 7\n",
    "top_5_home_run_hitters = sorted_home_runs[:5]\n",
    "print(top_5_home_run_hitters)"
   ]
  },
  {
   "cell_type": "markdown",
   "metadata": {
    "collapsed": true
   },
   "source": [
    "# Exercises To Complete.... <br>\n",
    "<p>Given in separate file after completion of this file</p>"
   ]
  }
 ],
 "metadata": {
  "kernelspec": {
   "display_name": "Python 3",
   "language": "python",
   "name": "python3"
  },
  "language_info": {
   "codemirror_mode": {
    "name": "ipython",
    "version": 3
   },
   "file_extension": ".py",
   "mimetype": "text/x-python",
   "name": "python",
   "nbconvert_exporter": "python",
   "pygments_lexer": "ipython3",
   "version": "3.8.5"
  }
 },
 "nbformat": 4,
 "nbformat_minor": 2
}
